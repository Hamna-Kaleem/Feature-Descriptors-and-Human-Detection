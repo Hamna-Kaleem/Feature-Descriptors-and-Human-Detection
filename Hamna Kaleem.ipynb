{
  "nbformat": 4,
  "nbformat_minor": 0,
  "metadata": {
    "colab": {
      "name": "AsgCV02.ipynb",
      "provenance": [],
      "collapsed_sections": []
    },
    "kernelspec": {
      "name": "python3",
      "display_name": "Python 3"
    },
    "accelerator": "GPU"
  },
  "cells": [
    {
      "cell_type": "code",
      "metadata": {
        "id": "DMq8hs7cy8QH",
        "colab": {
          "base_uri": "https://localhost:8080/"
        },
        "outputId": "0a3242db-6371-4346-d672-072a0c2eda72"
      },
      "source": [
        "!pip install opencv-python==3.4.2.16\r\n",
        "!pip install opencv-contrib-python==3.4.2.16"
      ],
      "execution_count": 8,
      "outputs": [
        {
          "output_type": "stream",
          "text": [
            "Requirement already satisfied: opencv-python==3.4.2.16 in /usr/local/lib/python3.6/dist-packages (3.4.2.16)\n",
            "Requirement already satisfied: numpy>=1.11.3 in /usr/local/lib/python3.6/dist-packages (from opencv-python==3.4.2.16) (1.18.5)\n",
            "Requirement already satisfied: opencv-contrib-python==3.4.2.16 in /usr/local/lib/python3.6/dist-packages (3.4.2.16)\n",
            "Requirement already satisfied: numpy>=1.11.3 in /usr/local/lib/python3.6/dist-packages (from opencv-contrib-python==3.4.2.16) (1.18.5)\n"
          ],
          "name": "stdout"
        }
      ]
    },
    {
      "cell_type": "code",
      "metadata": {
        "id": "Dlu2-IOIUX-F"
      },
      "source": [
        "import glob\r\n",
        "import cv2 as cv\r\n",
        "from google.colab.patches import cv2_imshow\r\n",
        "import skimage\r\n",
        "import matplotlib.pyplot as plt\r\n",
        "from skimage.feature import hog\r\n",
        "from skimage import data, exposure\r\n",
        "import seaborn as sns\r\n",
        "from sklearn.metrics import confusion_matrix,classification_report,accuracy_score"
      ],
      "execution_count": 46,
      "outputs": []
    },
    {
      "cell_type": "markdown",
      "metadata": {
        "id": "5J6K8c49K6C7"
      },
      "source": [
        "# **Task 01 : Local Feature Detection & Description**"
      ]
    },
    {
      "cell_type": "code",
      "metadata": {
        "id": "GmDbLhlEsS77"
      },
      "source": [
        "#Data files\n",
        "book = cv.imread(\"/content/drive/MyDrive/asg2/book.jpg\", cv.IMREAD_GRAYSCALE)\n",
        "bookPerson = cv.imread(\"/content/drive/MyDrive/asg2/book_person_holding.jpg\", cv.IMREAD_GRAYSCALE)\n",
        "\n",
        "build1 = cv.imread(\"/content/drive/MyDrive/asg2/building_1.jpg\", cv.IMREAD_GRAYSCALE)\n",
        "build2 = cv.imread(\"/content/drive/MyDrive/asg2/building_2.jpg\", cv.IMREAD_GRAYSCALE)\n",
        "build3 = cv.imread(\"/content/drive/MyDrive/asg2/building_3.jpg\", cv.IMREAD_GRAYSCALE)\n",
        "\n",
        "roma1 = cv.imread(\"/content/drive/MyDrive/asg2/roma_1.jpg\", cv.IMREAD_GRAYSCALE)\n",
        "roma2 = cv.imread(\"/content/drive/MyDrive/asg2/roma_2.jpg\", cv.IMREAD_GRAYSCALE)\n"
      ],
      "execution_count": 47,
      "outputs": []
    },
    {
      "cell_type": "code",
      "metadata": {
        "id": "Iu8OQtaAtBtu"
      },
      "source": [
        "#Feature detectors and descriptors\n",
        "sift = cv.xfeatures2d.SIFT_create()\n",
        "surf = cv.xfeatures2d.SURF_create()\n",
        "orb = cv.ORB_create()"
      ],
      "execution_count": 48,
      "outputs": []
    },
    {
      "cell_type": "code",
      "metadata": {
        "id": "qB4C9LOpIbJw"
      },
      "source": [
        "#SIFT for Books\n",
        "\n",
        "book_kp, book_dsecriptors = sift.detectAndCompute(book,None)\n",
        "bookPerson_kp, bookPerson_dsecriptors = sift.detectAndCompute(bookPerson,None)\n",
        "\n",
        "#matching\n",
        "matches = cv.BFMatcher(cv.NORM_L1, crossCheck = True )\n",
        "distance = matches.match(book_dsecriptors, bookPerson_dsecriptors)\n",
        "distance = sorted(distance, key = lambda x:x.distance)\n",
        "\n",
        "matching_result = cv.drawMatches(book,book_kp,bookPerson,bookPerson_kp, distance[:10], None, flags = 2)\n",
        "cv2_imshow(matching_result)"
      ],
      "execution_count": null,
      "outputs": []
    },
    {
      "cell_type": "code",
      "metadata": {
        "id": "pGh-zBVes67I"
      },
      "source": [
        "#sift for buildings\n",
        "build1_kp, build1_dsecriptors = sift.detectAndCompute(build1,None)\n",
        "build2_kp, build2_dsecriptors = sift.detectAndCompute(build2,None)\n",
        "build3_kp, build3_dsecriptors = sift.detectAndCompute(build3,None)\n",
        "\n",
        "\n",
        "#matching\n",
        "matches = cv.BFMatcher(cv.NORM_L1, crossCheck = True )\n",
        "distance12 = matches.match(build1_dsecriptors, build2_dsecriptors)\n",
        "distance12 = sorted(distance12, key = lambda x:x.distance)\n",
        "\n",
        "distance13 = matches.match(build1_dsecriptors, build3_dsecriptors)\n",
        "distance13 = sorted(distance13, key = lambda x:x.distance)\n",
        "\n",
        "distance23 = matches.match(build2_dsecriptors, build3_dsecriptors)\n",
        "distance23 = sorted(distance23, key = lambda x:x.distance)\n",
        "\n",
        "matching_result = cv.drawMatches(build1, build1_kp, build2, build2_kp, distance12[:10], None, flags = 2)\n",
        "cv2_imshow(matching_result)\n",
        "\n",
        "matching_result = cv.drawMatches(build1, build1_kp, build3, build3_kp, distance13[:10], None, flags = 2)\n",
        "cv2_imshow(matching_result)\n",
        "\n",
        "matching_result = cv.drawMatches(build2, build2_kp, build3, build3_kp, distance23[:10], None, flags = 2)\n",
        "cv2_imshow(matching_result)"
      ],
      "execution_count": null,
      "outputs": []
    },
    {
      "cell_type": "code",
      "metadata": {
        "id": "jAZvyNQw8UeC"
      },
      "source": [
        "#SIFT for Roma\n",
        "\n",
        "roma1_kp, roma1_dsecriptors = sift.detectAndCompute(roma1,None)\n",
        "roma2_kp, roma2_dsecriptors = sift.detectAndCompute(roma2,None)\n",
        "\n",
        "#matching\n",
        "matches = cv.BFMatcher(cv.NORM_L1, crossCheck = True )\n",
        "distance = matches.match(roma1_dsecriptors, roma2_dsecriptors)\n",
        "distance = sorted(distance, key = lambda x:x.distance)\n",
        "\n",
        "matching_result = cv.drawMatches(roma1,roma1_kp, roma2, roma2_kp, distance[:10], None, flags = 2)\n",
        "cv2_imshow(matching_result)"
      ],
      "execution_count": null,
      "outputs": []
    },
    {
      "cell_type": "code",
      "metadata": {
        "id": "vER85srF-CRm"
      },
      "source": [
        "#Surf for Books\n",
        "\n",
        "book_kp, book_dsecriptors = surf.detectAndCompute(book,None)\n",
        "bookPerson_kp, bookPerson_dsecriptors = surf.detectAndCompute(bookPerson,None)\n",
        "\n",
        "#matching\n",
        "matches = cv.BFMatcher(cv.NORM_L1, crossCheck = True )\n",
        "distance = matches.match(book_dsecriptors, bookPerson_dsecriptors)\n",
        "distance = sorted(distance, key = lambda x:x.distance)\n",
        "\n",
        "matching_result = cv.drawMatches(book,book_kp,bookPerson,bookPerson_kp, distance[:10], None, flags = 2)\n",
        "cv2_imshow(matching_result)"
      ],
      "execution_count": null,
      "outputs": []
    },
    {
      "cell_type": "code",
      "metadata": {
        "id": "lvSJgU_hDx1c"
      },
      "source": [
        "#surf for buildings\n",
        "build1_kp, build1_dsecriptors = surf.detectAndCompute(build1,None)\n",
        "build2_kp, build2_dsecriptors = surf.detectAndCompute(build2,None)\n",
        "build3_kp, build3_dsecriptors = surf.detectAndCompute(build3,None)\n",
        "\n",
        "\n",
        "#matching\n",
        "matches = cv.BFMatcher(cv.NORM_L1, crossCheck = True )\n",
        "distance12 = matches.match(build1_dsecriptors, build2_dsecriptors)\n",
        "distance12 = sorted(distance12, key = lambda x:x.distance)\n",
        "\n",
        "distance13 = matches.match(build1_dsecriptors, build3_dsecriptors)\n",
        "distance13 = sorted(distance13, key = lambda x:x.distance)\n",
        "\n",
        "distance23 = matches.match(build2_dsecriptors, build3_dsecriptors)\n",
        "distance23 = sorted(distance23, key = lambda x:x.distance)\n",
        "\n",
        "matching_result = cv.drawMatches(build1, build1_kp, build2, build2_kp, distance12[:10], None, flags = 2)\n",
        "cv2_imshow(matching_result)\n",
        "\n",
        "matching_result = cv.drawMatches(build1, build1_kp, build3, build3_kp, distance13[:10], None, flags = 2)\n",
        "cv2_imshow(matching_result)\n",
        "\n",
        "matching_result = cv.drawMatches(build2, build2_kp, build3, build3_kp, distance23[:10], None, flags = 2)\n",
        "cv2_imshow(matching_result)"
      ],
      "execution_count": null,
      "outputs": []
    },
    {
      "cell_type": "code",
      "metadata": {
        "id": "cx59vkJp-Ql6"
      },
      "source": [
        "#Surf for Roma\n",
        "\n",
        "roma1_kp, roma1_dsecriptors = surf.detectAndCompute(roma1,None)\n",
        "roma2_kp, roma2_dsecriptors = surf.detectAndCompute(roma2,None)\n",
        "\n",
        "#matching\n",
        "matches = cv.BFMatcher(cv.NORM_L1, crossCheck = True )\n",
        "distance = matches.match(roma1_dsecriptors, roma2_dsecriptors)\n",
        "distance = sorted(distance, key = lambda x:x.distance)\n",
        "\n",
        "matching_result = cv.drawMatches(roma1,roma1_kp, roma2, roma2_kp, distance[:10], None, flags = 2)\n",
        "cv2_imshow(matching_result)"
      ],
      "execution_count": null,
      "outputs": []
    },
    {
      "cell_type": "code",
      "metadata": {
        "id": "2efB7OsG-0m5"
      },
      "source": [
        "#ORB for Books\n",
        "\n",
        "book_kp, book_dsecriptors = orb.detectAndCompute(book,None)\n",
        "bookPerson_kp, bookPerson_dsecriptors = orb.detectAndCompute(bookPerson,None)\n",
        "\n",
        "#matching\n",
        "matches = cv.BFMatcher(cv.NORM_L1, crossCheck = True )\n",
        "distance = matches.match(book_dsecriptors, bookPerson_dsecriptors)\n",
        "distance = sorted(distance, key = lambda x:x.distance)\n",
        "\n",
        "matching_result = cv.drawMatches(book,book_kp,bookPerson,bookPerson_kp, distance[:10], None, flags = 2)\n",
        "cv2_imshow(matching_result)"
      ],
      "execution_count": null,
      "outputs": []
    },
    {
      "cell_type": "code",
      "metadata": {
        "id": "RNufsViPEL75"
      },
      "source": [
        "#orb for buildings\n",
        "build1_kp, build1_dsecriptors = orb.detectAndCompute(build1,None)\n",
        "build2_kp, build2_dsecriptors = orb.detectAndCompute(build2,None)\n",
        "build3_kp, build3_dsecriptors = orb.detectAndCompute(build3,None)\n",
        "\n",
        "\n",
        "#matching\n",
        "matches = cv.BFMatcher(cv.NORM_L1, crossCheck = True )\n",
        "distance12 = matches.match(build1_dsecriptors, build2_dsecriptors)\n",
        "distance12 = sorted(distance12, key = lambda x:x.distance)\n",
        "\n",
        "distance13 = matches.match(build1_dsecriptors, build3_dsecriptors)\n",
        "distance13 = sorted(distance13, key = lambda x:x.distance)\n",
        "\n",
        "distance23 = matches.match(build2_dsecriptors, build3_dsecriptors)\n",
        "distance23 = sorted(distance23, key = lambda x:x.distance)\n",
        "\n",
        "matching_result = cv.drawMatches(build1, build1_kp, build2, build2_kp, distance12[:10], None, flags = 2)\n",
        "cv2_imshow(matching_result)\n",
        "\n",
        "matching_result = cv.drawMatches(build1, build1_kp, build3, build3_kp, distance13[:10], None, flags = 2)\n",
        "cv2_imshow(matching_result)\n",
        "\n",
        "matching_result = cv.drawMatches(build2, build2_kp, build3, build3_kp, distance23[:10], None, flags = 2)\n",
        "cv2_imshow(matching_result)"
      ],
      "execution_count": null,
      "outputs": []
    },
    {
      "cell_type": "code",
      "metadata": {
        "id": "Kc_Zb0qJA8BO"
      },
      "source": [
        "#ORB for Roma\n",
        "\n",
        "roma1_kp, roma1_dsecriptors = orb.detectAndCompute(roma1,None)\n",
        "roma2_kp, roma2_dsecriptors = orb.detectAndCompute(roma2,None)\n",
        "\n",
        "#matching\n",
        "matches = cv.BFMatcher(cv.NORM_L1, crossCheck = True )\n",
        "distance = matches.match(roma1_dsecriptors, roma2_dsecriptors)\n",
        "distance = sorted(distance, key = lambda x:x.distance)\n",
        "\n",
        "matching_result = cv.drawMatches(roma1,roma1_kp, roma2, roma2_kp, distance[:10], None, flags = 2)\n",
        "cv2_imshow(matching_result)"
      ],
      "execution_count": null,
      "outputs": []
    },
    {
      "cell_type": "markdown",
      "metadata": {
        "id": "ycEweGm8BnHZ"
      },
      "source": [
        "# **TASK 2: Human Classification & Detection**"
      ]
    },
    {
      "cell_type": "code",
      "metadata": {
        "id": "NeR9EnvMjcWS"
      },
      "source": [
        "HumanTrain = []\r\n",
        "nonHumanTrain = []\r\n",
        "HumanTest = []\r\n",
        "nonHumanTest = []\r\n",
        "trainLabels =[]\r\n",
        "testLabels = []\r\n",
        "h_image = []"
      ],
      "execution_count": 17,
      "outputs": []
    },
    {
      "cell_type": "code",
      "metadata": {
        "id": "g6-q8iiadLJc"
      },
      "source": [
        "path = glob.glob(\"/content/drive/MyDrive/INRIA/Train/pos/*\")\n",
        "for img in path:\n",
        "    n = cv.imread(img)\n",
        "    n = cv.resize(n,(128,70))\n",
        "    hogFeatures , image = skimage.feature.hog(n, orientations=3, pixels_per_cell=(2,2), \n",
        "                                cells_per_block=(2, 2),block_norm='L1', transform_sqrt=True,feature_vector=True,\n",
        "                                visualize = True, multichannel = True )\n",
        "    HumanTrain.append(hogFeatures)\n",
        "    trainLabels.append(1)\n",
        "\n",
        "path = glob.glob(\"/content/drive/MyDrive/INRIA/Train/neg/*\")\n",
        "for img in path:\n",
        "    n = cv.imread(img)\n",
        "    n = cv.resize(n,(128,70))\n",
        "    hogFeatures, image = skimage.feature.hog(n, orientations=3, pixels_per_cell=(2,2),\n",
        "                                cells_per_block=(2, 2),block_norm='L1', transform_sqrt=True,feature_vector=True,\n",
        "                                visualize= True, multichannel = True)\n",
        "    HumanTrain.append(hogFeatures)\n",
        "    trainLabels.append(0)"
      ],
      "execution_count": 18,
      "outputs": []
    },
    {
      "cell_type": "code",
      "metadata": {
        "id": "4hNrrl05AQEK"
      },
      "source": [
        "\r\n",
        "path = glob.glob(\"/content/drive/MyDrive/INRIA/Test/pos/*\")\r\n",
        "for img in path:\r\n",
        "    n = cv.imread(img)\r\n",
        "    n = cv.resize(n,(128,70))\r\n",
        "    hogFeatures, image = skimage.feature.hog(n, orientations=3, pixels_per_cell=(2,2),\r\n",
        "                                cells_per_block=(2, 2),block_norm='L1', transform_sqrt=True,feature_vector=True,\r\n",
        "                                visualize= True, multichannel = True)\r\n",
        "    HumanTest.append(hogFeatures)\r\n",
        "    testLabels.append(1)\r\n",
        "    h_image.append(image)\r\n",
        "\r\n",
        "path = glob.glob(\"/content/drive/MyDrive/INRIA/Test/neg/*\")\r\n",
        "for img in path:\r\n",
        "    n = cv.imread(img)\r\n",
        "    n = cv.resize(n,(128,70))\r\n",
        "    fd,image = skimage.feature.hog(n, orientations=3, pixels_per_cell=(2,2),\r\n",
        "                             cells_per_block=(2,2), block_norm='L1', feature_vector=True, transform_sqrt=True,\r\n",
        "                            visualize = True , multichannel = True)\r\n",
        "    HumanTest.append(fd)\r\n",
        "    testLabels.append(0)"
      ],
      "execution_count": 19,
      "outputs": []
    },
    {
      "cell_type": "markdown",
      "metadata": {
        "id": "i_KqrP5eYtSN"
      },
      "source": [
        "**SVM & Random Forest**"
      ]
    },
    {
      "cell_type": "code",
      "metadata": {
        "colab": {
          "base_uri": "https://localhost:8080/"
        },
        "id": "glgn6K_SPePh",
        "outputId": "63879086-7bec-4da5-f54a-3b6d10159cc2"
      },
      "source": [
        "from sklearn.svm import LinearSVC\r\n",
        "import numpy as np\r\n",
        "# load linear SVM\r\n",
        "modelSVC = LinearSVC(max_iter=3000)\r\n",
        "modelSVC.fit(HumanTrain,trainLabels)"
      ],
      "execution_count": 20,
      "outputs": [
        {
          "output_type": "execute_result",
          "data": {
            "text/plain": [
              "LinearSVC(C=1.0, class_weight=None, dual=True, fit_intercept=True,\n",
              "          intercept_scaling=1, loss='squared_hinge', max_iter=3000,\n",
              "          multi_class='ovr', penalty='l2', random_state=None, tol=0.0001,\n",
              "          verbose=0)"
            ]
          },
          "metadata": {
            "tags": []
          },
          "execution_count": 20
        }
      ]
    },
    {
      "cell_type": "code",
      "metadata": {
        "id": "1aaXfctRTv5Y"
      },
      "source": [
        "SVC = modelSVC.predict(HumanTest) "
      ],
      "execution_count": 21,
      "outputs": []
    },
    {
      "cell_type": "code",
      "metadata": {
        "colab": {
          "base_uri": "https://localhost:8080/"
        },
        "id": "tSbq9GJNUJIf",
        "outputId": "7e81a912-eaaa-4c6d-fadd-beefac780072"
      },
      "source": [
        "mask = SVC==testLabels\r\n",
        "correct = np.count_nonzero(mask)\r\n",
        "print(correct*100.0/SVC.size)"
      ],
      "execution_count": 24,
      "outputs": [
        {
          "output_type": "stream",
          "text": [
            "92.42902208201893\n"
          ],
          "name": "stdout"
        }
      ]
    },
    {
      "cell_type": "code",
      "metadata": {
        "id": "MIyvM0oWaOTX"
      },
      "source": [
        "svc_score_test = round(modelSVC.score(HumanTest, testLabels) * 100, 2)\r\n",
        "print('SVM Test Score: \\n', svc_score_test)\r\n",
        "print('Accuracy: \\n', accuracy_score(testLabels, SVC))\r\n",
        "print('Classification Report: \\n', classification_report(testLabels,SVC))\r\n",
        "\r\n",
        "sns.heatmap(confusion_matrix(testLabels,SVC),annot=True,fmt=\"d\")"
      ],
      "execution_count": null,
      "outputs": []
    },
    {
      "cell_type": "code",
      "metadata": {
        "colab": {
          "base_uri": "https://localhost:8080/"
        },
        "id": "7C1wvSt0WboV",
        "outputId": "12045edc-a291-4e4b-e188-de249556ce3b"
      },
      "source": [
        "from sklearn.ensemble import RandomForestClassifier\r\n",
        "clf = RandomForestClassifier(max_depth=2, random_state=0, n_estimators=2500)\r\n",
        "clf.fit(HumanTrain, trainLabels)"
      ],
      "execution_count": 27,
      "outputs": [
        {
          "output_type": "execute_result",
          "data": {
            "text/plain": [
              "RandomForestClassifier(bootstrap=True, ccp_alpha=0.0, class_weight=None,\n",
              "                       criterion='gini', max_depth=2, max_features='auto',\n",
              "                       max_leaf_nodes=None, max_samples=None,\n",
              "                       min_impurity_decrease=0.0, min_impurity_split=None,\n",
              "                       min_samples_leaf=1, min_samples_split=2,\n",
              "                       min_weight_fraction_leaf=0.0, n_estimators=2500,\n",
              "                       n_jobs=None, oob_score=False, random_state=0, verbose=0,\n",
              "                       warm_start=False)"
            ]
          },
          "metadata": {
            "tags": []
          },
          "execution_count": 27
        }
      ]
    },
    {
      "cell_type": "code",
      "metadata": {
        "id": "HfS8y1SyYPpj"
      },
      "source": [
        "randomForest = clf.predict(HumanTest) "
      ],
      "execution_count": 28,
      "outputs": []
    },
    {
      "cell_type": "code",
      "metadata": {
        "colab": {
          "base_uri": "https://localhost:8080/"
        },
        "id": "HG4YOAAzYYKl",
        "outputId": "7b5147b3-a18a-43ee-ebb5-64ca7f66fbec"
      },
      "source": [
        "mask = randomForest==testLabels\r\n",
        "correct = np.count_nonzero(mask)\r\n",
        "print(correct*100.0/randomForest.size)"
      ],
      "execution_count": 30,
      "outputs": [
        {
          "output_type": "stream",
          "text": [
            "82.33438485804416\n"
          ],
          "name": "stdout"
        }
      ]
    },
    {
      "cell_type": "code",
      "metadata": {
        "id": "wB7TccyOc32v"
      },
      "source": [
        "random_forest_score_test = round(clf.score(HumanTest, testLabels) * 100 , 2)\r\n",
        "print('Random Forest Test Score: \\n', random_forest_score_test)\r\n",
        "print('Accuracy: \\n', accuracy_score(testLabels,randomForest))\r\n",
        "print(classification_report(testLabels,randomForest))\r\n",
        "sns.heatmap(confusion_matrix(testLabels,randomForest),annot=True,fmt=\"d\")"
      ],
      "execution_count": null,
      "outputs": []
    },
    {
      "cell_type": "code",
      "metadata": {
        "id": "WWOEJ15_i9vC"
      },
      "source": [
        "#Correctly Classified Results : \r\n",
        "\r\n",
        "checking = []\r\n",
        "checkingLabel = []\r\n",
        "\r\n",
        "\r\n",
        "for index in range(5):\r\n",
        "    checking.append(HumanTest[index])\r\n",
        "    checkingLabel.append(testLabels[index])\r\n",
        "\r\n",
        "for index in range(5):\r\n",
        "    obtained_label = modelSVC.predict([checking[index]])\r\n",
        "\r\n",
        "    #comparison\r\n",
        "    print(\"Actual Label =\")\r\n",
        "    print(checkingLabel[index])\r\n",
        "    print(\"Predicted Label =\")\r\n",
        "    print(obtained_label)\r\n",
        "\r\n",
        "    #visualize\r\n",
        "    figr, (ax1, ax2) = plt.subplots(1, 2, figsize=(8, 4), sharex=True, sharey=True)\r\n",
        "    ax1.axis('off')\r\n",
        "    ax1.imshow(image, cmap=\"gray\")\r\n",
        "    ax1.set_title('Input image')\r\n",
        "    ax2.axis('off')\r\n",
        "    ax2.imshow((h_image[index]),cmap=plt.cm.gray)\r\n",
        "    ax2.set_title('Histogram of Oriented Gradients')\r\n",
        "    plt.show()"
      ],
      "execution_count": null,
      "outputs": []
    },
    {
      "cell_type": "code",
      "metadata": {
        "id": "h7_HF-GNor1Q"
      },
      "source": [
        "#Correctly Classified Results : \r\n",
        "\r\n",
        "checking = []\r\n",
        "checkingLabel = []\r\n",
        "\r\n",
        "\r\n",
        "for index in range(5):\r\n",
        "    checking.append(HumanTest[index])\r\n",
        "    checkingLabel.append(testLabels[index])\r\n",
        "\r\n",
        "for index in range(5):\r\n",
        "    obtained_label = clf.predict([checking[index]])\r\n",
        "\r\n",
        "    #comparison\r\n",
        "    print(\"Actual Label =\")\r\n",
        "    print(checkingLabel[index])\r\n",
        "    print(\"Predicted Label =\")\r\n",
        "    print(obtained_label)\r\n",
        "\r\n",
        "    #visualize\r\n",
        "    figr, (ax1, ax2) = plt.subplots(1, 2, figsize=(8, 4), sharex=True, sharey=True)\r\n",
        "    ax1.axis('off')\r\n",
        "    ax1.imshow(image, cmap=\"gray\")\r\n",
        "    ax1.set_title('Input image')\r\n",
        "    ax2.axis('off')\r\n",
        "    ax2.imshow((h_image[index]),cmap=plt.cm.gray)\r\n",
        "    ax2.set_title('Histogram of Oriented Gradients')\r\n",
        "    plt.show()"
      ],
      "execution_count": null,
      "outputs": []
    }
  ]
}